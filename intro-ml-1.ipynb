{
 "cells": [
  {
   "cell_type": "markdown",
   "metadata": {},
   "source": [
    "An introduction to machine learning with scikit-learn"
   ]
  },
  {
   "cell_type": "code",
   "execution_count": null,
   "metadata": {},
   "outputs": [],
   "source": [
    "from sklearn import datasets\n",
    "\n",
    "iris = datasets.load_iris()\n",
    "digits = datasets.load_digits()\n",
    "\n",
    "print(f'{digits.keys()}\\n')  ## print keys of digits\n",
    "\n",
    "print(f'Size of digits\\n')\n",
    "print(f'size of digits.data {len(digits.data)}\\n')\n",
    "print(f'size of digits.target {len(digits.target)}\\n')\n",
    "## print(f'size of digits.frame {len(digits.frame)}\\n')\n",
    "## print(f'size of digits.features_names {len(digits.features_names)}\\n')\n",
    "print(f'size of digits.target_names {len(digits.target_names)}\\n')\n",
    "print(f'size of digits.images {len(digits.images)}\\n')\n",
    "print(f'size of digits.DESCR {len(digits.DESCR)}\\n')\n",
    "\n",
    "\n",
    "print(f'digits.data : \\n {digits.data}\\n')\n",
    "print(f'digits.target : \\n {digits.target}\\n')\n",
    "print(f'digits.target_names : \\n {digits.target_names}\\n')\n",
    "\n",
    "print(f'size of digits.images[0] : \\n {len(digits.images[0])}\\n')\n",
    "print(f'digits.images[0] : \\n {digits.images[0]}\\n')\n",
    "\n"
   ]
  },
  {
   "cell_type": "code",
   "execution_count": null,
   "metadata": {},
   "outputs": [],
   "source": [
    "from sklearn import datasets\n",
    "from sklearn import svm\n",
    "import matplotlib.pyplot as plt\n",
    "\n",
    "sample = -1\n",
    "print(f'digits.images[{sample}] : \\n {digits.images[sample]}\\n {np.size(digits.images[sample])}\\n {digits.images[sample].shape}\\n')\n",
    "\n",
    "print(f'digits.data : \\n {digits.data[sample]}\\n {digits.data[sample].shape}\\n {np.size(digits.data[sample])}\\n')\n",
    "\n",
    "print(f'digits.target : \\n {digits.target[sample]}\\n')\n",
    "\n",
    "plt.figure(1, figsize=(3, 3))\n",
    "plt.imshow(digits.images[sample], cmap=plt.cm.gray_r, interpolation=\"nearest\")\n",
    "plt.show()\n",
    "\n"
   ]
  },
  {
   "cell_type": "code",
   "execution_count": null,
   "metadata": {},
   "outputs": [],
   "source": [
    "import numpy as np\n",
    "\n",
    "sample = 12\n",
    "print(f'digits.data[:-1].shape: {digits.data[:-1].shape}\\n')\n",
    "print(f'digits.data.shape: {digits.data.shape}\\n')\n",
    "\n",
    "data = digits.data[1,:]\n",
    "print(f'np.size(data) : {np.size(data)}')\n",
    "print(f'data.shape : {data.shape}')\n",
    "print(f'digits.data[-1,:] :\\n {data}\\n')\n",
    "\n",
    "image = digits.images[1]\n",
    "print(f'np.size(image) : {np.size(image)}')\n",
    "print(f'image.shape : {image.shape}')\n",
    "print(image.reshape(1,64))\n",
    "\n",
    "target = digits.target\n",
    "print(f'digits.target[:-1] : {digits.target[:-1]}')\n",
    "print(f'np.size(target) : {np.size(digits.target)}')\n",
    "print(f'image.shape : {digits.target.shape}')\n",
    "\n",
    "# print(f'{digits.data[:-1]}\\n')\n",
    "# print(f'{digits.images[-1]}\\n')\n",
    "\n",
    "\n"
   ]
  },
  {
   "cell_type": "code",
   "execution_count": null,
   "metadata": {},
   "outputs": [],
   "source": [
    "import numpy as np\n",
    "list = np.array([[1,2,3,33],[4,5,6,44], [11,22,3,3]])\n",
    "print(list)\n",
    "print(list[-1:])\n"
   ]
  },
  {
   "cell_type": "code",
   "execution_count": null,
   "metadata": {},
   "outputs": [],
   "source": [
    "###\n",
    "## 08.08.2022\n",
    "############################\n",
    "# Erstelle Model\n",
    "clf = svm.SVC(gamma=0.001, C=100.)\n",
    "\n",
    "# Training, wir nehmen die letzte Zeile raus\n",
    "# clf.fit(digits.data[:-1], digits.target[:-1])       # alle Zeile außer letzte\n",
    "clf.fit(digits.data[0:1000], digits.target[0:1000])   # nehmen nur 1000 Zeilen \n",
    "\n",
    "sample = 1550\n",
    "n_sample = 20\n",
    "# Test und Predict, wir beutzen die letzte Zeile für Predikat\n",
    "for index in range(sample, sample + n_sample):\n",
    "    print(f'Vorhersage für letzte Zeile\\n Pridikat: : {clf.predict(digits.data[index:index+1])} Wahrheit: {digits.target[index]}\\n')\n",
    "\n"
   ]
  },
  {
   "cell_type": "code",
   "execution_count": null,
   "metadata": {},
   "outputs": [],
   "source": [
    "from sympy import *\n",
    "\n",
    "x=symbols('x')\n",
    "a = Integral(cos(x)*exp(x), x)\n",
    "Eq(a, a.doit())\n"
   ]
  },
  {
   "cell_type": "code",
   "execution_count": null,
   "metadata": {},
   "outputs": [],
   "source": [
    "names = [\"Sofiane\", \"Saffana\", \"Omar\"]\n",
    "Profis =[\"Weiterbildung\", \"Ernestinum\", \"Waldwegschule\"]\n",
    "\n",
    "{names[i]:Profis[i] for i in range(len(names))}"
   ]
  },
  {
   "cell_type": "code",
   "execution_count": null,
   "metadata": {},
   "outputs": [],
   "source": [
    "import numpy as np\n",
    "\n",
    "list = np.array([1,2,3,4])\n",
    "print(list, list.shape)\n",
    "\n",
    "list = list[np.newaxis, :]\n",
    "print(list, list.shape)\n",
    "\n",
    "list = list[:,np.newaxis]\n",
    "print(list, list.shape)\n",
    "\n",
    "list = list[:,np.newaxis]\n",
    "print(list, list.shape)\n",
    "\n",
    "\n"
   ]
  },
  {
   "cell_type": "code",
   "execution_count": null,
   "metadata": {},
   "outputs": [],
   "source": [
    "X, Y, coef = datasets.make_regression(\n",
    "    n_samples=100, n_features=1, n_informative=2, noise=10, coef=True, random_state=0, bias=100\n",
    ")\n",
    "# Y = Y[:, np.newaxis]\n",
    "Y1 = np.transpose(Y)\n",
    "print(Y, Y.shape)"
   ]
  },
  {
   "cell_type": "code",
   "execution_count": null,
   "metadata": {},
   "outputs": [],
   "source": [
    "\n",
    "list = np.array([1,2,3,4])\n",
    "lst = list[np.newaxis, :]\n",
    "print(list, lst ,list.shape, lst.shape)\n",
    "print(np.transpose(lst))"
   ]
  },
  {
   "cell_type": "code",
   "execution_count": null,
   "metadata": {},
   "outputs": [],
   "source": [
    "ls = list(range(1,10))\n",
    "print(ls)\n",
    "\n",
    "ls = list((1,2,3,4))\n",
    "print(ls)\n",
    "\n",
    "ls = list([1,2,3,4,5,6])\n",
    "print(ls)\n",
    "\n",
    "x = list(('apple', 'banana', 'cherry'))\n",
    "print(x)\n",
    "\n",
    "y = list(['apple', 'banana', 'cherry'])\n",
    "print(y)\n"
   ]
  },
  {
   "cell_type": "code",
   "execution_count": null,
   "metadata": {},
   "outputs": [],
   "source": [
    "import matplotlib.pyplot as plt\n",
    "\n",
    "var = 34\n",
    "plt.plot(range(10), label='Some very long label')\n",
    "plt.plot(range(1,11), label=f'Short label sofiane {var}')\n",
    "legend=plt.legend()\n",
    "legend.get_texts()[0].set_text('make it short')\n",
    "plt.savefig('temp.png')"
   ]
  },
  {
   "cell_type": "code",
   "execution_count": null,
   "metadata": {},
   "outputs": [],
   "source": [
    "import numpy as np\n",
    "\n",
    "\n",
    "X = np.array([1,2,3,4,5])\n",
    "Y = np.array([1,2.5,1,4,3.5,3])\n",
    "m = 0.75\n",
    "c = 0\n",
    "err = 0\n",
    "for i in X:\n",
    "    err = err + (Y[i] - m*X[i])"
   ]
  },
  {
   "cell_type": "code",
   "execution_count": null,
   "metadata": {},
   "outputs": [],
   "source": []
  }
 ],
 "metadata": {
  "kernelspec": {
   "display_name": "Python 3.10.4 ('nlp-projekt')",
   "language": "python",
   "name": "python3"
  },
  "language_info": {
   "codemirror_mode": {
    "name": "ipython",
    "version": 3
   },
   "file_extension": ".py",
   "mimetype": "text/x-python",
   "name": "python",
   "nbconvert_exporter": "python",
   "pygments_lexer": "ipython3",
   "version": "3.10.4"
  },
  "orig_nbformat": 4,
  "vscode": {
   "interpreter": {
    "hash": "00f82ba0a11918a930a7fecd6f4b18fa2272b88c57fdc357425e0a19a574c018"
   }
  }
 },
 "nbformat": 4,
 "nbformat_minor": 2
}
